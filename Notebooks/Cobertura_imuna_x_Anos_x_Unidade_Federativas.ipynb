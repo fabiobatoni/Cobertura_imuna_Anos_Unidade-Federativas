{
  "nbformat": 4,
  "nbformat_minor": 0,
  "metadata": {
    "colab": {
      "name": "Cobertura_imuna x Anos x Unidade Federativas.ipynb",
      "private_outputs": true,
      "provenance": [],
      "authorship_tag": "ABX9TyPvKABAwD6h0e6fJmUTgYmh",
      "include_colab_link": true
    },
    "kernelspec": {
      "name": "python3",
      "display_name": "Python 3"
    },
    "language_info": {
      "name": "python"
    }
  },
  "cells": [
    {
      "cell_type": "markdown",
      "metadata": {
        "id": "view-in-github",
        "colab_type": "text"
      },
      "source": [
        "<a href=\"https://colab.research.google.com/github/fabiobatoni/Cobertura_imuna_Anos_Unidade-Federativas/blob/main/Notebooks/Cobertura_imuna_x_Anos_x_Unidade_Federativas.ipynb\" target=\"_parent\"><img src=\"https://colab.research.google.com/assets/colab-badge.svg\" alt=\"Open In Colab\"/></a>"
      ]
    },
    {
      "cell_type": "markdown",
      "source": [
        "> Olá! Bem vindo ao meu repositório relativo ao Segundo Desafio imersão de dados da Alura! Na pasta notebooks, estará uma analise feita em cima dos dados do site DataSUS para entender a taxa de cobertura vacinal do Brasil ao longo dos anos. Abaixo detalherei melhor qual o escopo do projeto, quais dados serão utilizados e como eu pretendo achar um modelo para prever tal situação.\n",
        "\n",
        "---\n",
        "\n",
        "\n",
        "# **Desafio Módulo 2 - BootCamp Alura Data Science** \n",
        "\n",
        "\n",
        "---\n",
        "\n",
        "\n",
        "\n",
        "\n",
        "#    **Objetivo**\n",
        "> Analisar os dados do plano de imunização nacional e entender se todos os anos e estados possuem a mesma taxa de cobertura, tambem entender quais possuem as menores.\n",
        "\n",
        "\n",
        "\n",
        "\n",
        "\n",
        "\n",
        "---\n",
        "\n",
        "\n",
        "#    **Escopo** \n",
        "    > Comparar os dados do plano de imunização nacional com informações de anos e unidades federativas \n",
        "\n",
        "\n",
        "\n",
        "---\n",
        "\n",
        "\n",
        "#    **Hipóteses** \n",
        "\n",
        "  De acordo com PNI (Programa Nacional de Imunização) em 2020. O ideal são taxas sempre acima de 90%\n",
        "\n",
        "\n",
        "---\n",
        "\n",
        "\n",
        "#   **Dados utilizados e Fontes de Origem**\n",
        "\n",
        "\n",
        "1.  Coberturas Vacinais por Unidade da Federação e Ano\n",
        "2.  Coberturas Vacinais por Unidade da Federação e Imuno\n",
        "*Todas as tabelas estão disponíveis no site ▶ https://datasus.saude.gov.br/informacoes-de-saude-tabnet/*\n",
        "\n",
        "\n",
        "\n",
        "\n",
        "\n",
        "\n",
        "---\n",
        "# ***Conclusões*** \n",
        "1.   Analisando todos os anos, podemos identificar que apenas o ano de 2015 atingiu a cobertura de 90%\n",
        "2.   Estados com menores coberturas de vacinação (Pará, Acre, Rio Grande do Norte, Rio de Janeiro e Amapá).\n",
        "3.   2015 e 2019 tivemos uma queda de 47%\n",
        "3.   Doenças menos comum ( Poliomelite )\n",
        " "
      ],
      "metadata": {
        "id": "xFGlR85boO5N"
      }
    },
    {
      "cell_type": "markdown",
      "metadata": {
        "id": "y1XNYttr3wbh"
      },
      "source": [
        "1.   # Tratamento do Data Frame sobre cobertura Vacinal \n",
        "\n",
        "\n"
      ]
    },
    {
      "cell_type": "code",
      "metadata": {
        "id": "VvhON0sc2ieg"
      },
      "source": [
        "import pandas as pd\n",
        "import warnings\n",
        "\n",
        "# Retirando warnings\n",
        "\n",
        "warnings.simplefilter(action='ignore', category=Warning)"
      ],
      "execution_count": null,
      "outputs": []
    },
    {
      "cell_type": "code",
      "metadata": {
        "id": "YDDN-ba14A10"
      },
      "source": [
        "cobertura_ano = pd.read_csv('https://raw.githubusercontent.com/fabiobatoni/Cobertura_imuna_Anos_Unidade-Federativas/main/Dados/cobertura_vacinal.csv', encoding=\"ISO-8859-1\",\n",
        "                        sep=\";\",skiprows = 3, skipfooter = 20,\n",
        "                        thousands = \".\", decimal=\",\")\n",
        "\n",
        "vacina = pd.read_csv('https://raw.githubusercontent.com/fabiobatoni/Cobertura_imuna_Anos_Unidade-Federativas/main/Dados/tipo_vacina.csv', encoding=\"ISO-8859-1\",\n",
        "                        sep=\";\",skiprows = 3, skipfooter = 20,\n",
        "                        thousands = \".\", decimal=\",\")\n",
        "\n",
        "unidade_federacao_ano = pd.read_csv('https://raw.githubusercontent.com/fabiobatoni/Cobertura_imuna_Anos_Unidade-Federativas/main/Dados/unidade_federacao_ano.csv', encoding=\"ISO-8859-1\",\n",
        "                        sep=\";\",skiprows = 3, skipfooter = 20,\n",
        "                        thousands = \".\", decimal=\",\")\n",
        "\n",
        "unidade_federacao_vacina = pd.read_csv('https://raw.githubusercontent.com/fabiobatoni/Cobertura_imuna_Anos_Unidade-Federativas/main/Dados/imune_federacao.csv', encoding=\"ISO-8859-1\",\n",
        "                        sep=\";\",skiprows = 3, skipfooter = 20,\n",
        "                        thousands = \".\", decimal=\",\")"
      ],
      "execution_count": null,
      "outputs": []
    },
    {
      "cell_type": "markdown",
      "metadata": {
        "id": "qn-yT-1-NFJ_"
      },
      "source": [
        "**Retirando os 3 primeiros caracteres numéricos dos nomes das UFs**"
      ]
    },
    {
      "cell_type": "code",
      "metadata": {
        "id": "CB82zLsb4VH6"
      },
      "source": [
        "cobertura_ano[\"uf\"] = cobertura_ano[\"Unidade da Federação\"].str.slice(start=3)\n",
        "cobertura_ano[\"Unidade da Federação\"] = cobertura_ano[\"uf\"]\n",
        "cobertura_ano.head()"
      ],
      "execution_count": null,
      "outputs": []
    },
    {
      "cell_type": "markdown",
      "metadata": {
        "id": "NZxTHv06NSKG"
      },
      "source": [
        "**Retirando as Colunas Total e uf**"
      ]
    },
    {
      "cell_type": "code",
      "metadata": {
        "id": "ReIq1b66NOVH"
      },
      "source": [
        "cobertura_ano = cobertura_ano.drop(\"Total\", axis=1)\n",
        "cobertura_ano = cobertura_ano.drop(\"uf\",axis=1)\n",
        "cobertura_ano.head()"
      ],
      "execution_count": null,
      "outputs": []
    },
    {
      "cell_type": "markdown",
      "metadata": {
        "id": "rDa885rZNbNm"
      },
      "source": [
        "**Alterando o nome da Coluna Unidade ds Federação para uf** "
      ]
    },
    {
      "cell_type": "code",
      "metadata": {
        "id": "nkW3zofkNXCm"
      },
      "source": [
        "cobertura_ano = cobertura_ano.rename(columns={'Unidade da Federação':'uf'})\n",
        "cobertura_ano = cobertura_ano.set_index(\"uf\")\n",
        "cobertura_ano.head()"
      ],
      "execution_count": null,
      "outputs": []
    },
    {
      "cell_type": "markdown",
      "metadata": {
        "id": "Vr01znzeNwxW"
      },
      "source": [
        "**Alterando a estrutura do Data Frame através do .melt para utilizar a biblioteca seaborn e plots distintos**"
      ]
    },
    {
      "cell_type": "code",
      "metadata": {
        "id": "oos2jy1ONnnV"
      },
      "source": [
        "cobertura_ano = cobertura_ano.reset_index().melt(id_vars=[\"uf\"], value_vars=cobertura_ano.columns)\n",
        "cobertura_ano.head()"
      ],
      "execution_count": null,
      "outputs": []
    },
    {
      "cell_type": "markdown",
      "metadata": {
        "id": "f3yqLMAbOBMt"
      },
      "source": [
        "**Ajustando os nomes das colunas para tornar o novo dataframe mais intuitivo**"
      ]
    },
    {
      "cell_type": "code",
      "metadata": {
        "id": "srZ1bkfON3Im"
      },
      "source": [
        "cobertura_ano = cobertura_ano.rename(columns={'value':'cobertura vacinal'})\n",
        "cobertura_ano = cobertura_ano.rename(columns={'variable':'Ano'})\n",
        "cobertura_ano.head()"
      ],
      "execution_count": null,
      "outputs": []
    },
    {
      "cell_type": "markdown",
      "metadata": {
        "id": "Xws96RNtQieB"
      },
      "source": [
        "**De acordo com PNI (Programa Nacional de Imunização) em 2020. O ideal são taxas sempre acima de 90%**\n"
      ]
    },
    {
      "cell_type": "code",
      "metadata": {
        "id": "Fp_iLqGLOn-f"
      },
      "source": [
        "import matplotlib.pyplot as plt\n",
        "import matplotlib.ticker as ticker\n",
        "import seaborn as sns"
      ],
      "execution_count": null,
      "outputs": []
    },
    {
      "cell_type": "code",
      "metadata": {
        "id": "iN5Sy_A3OHGW"
      },
      "source": [
        "plt.figure(figsize=(18,10))\n",
        "plt.xticks(rotation=30,fontsize=15, fontstyle='italic',fontweight=500)\n",
        "plt.yticks(fontsize=15, fontstyle='italic',fontweight=500)\n",
        "ax = sns.barplot(data=cobertura_ano, x=\"Ano\",y=\"cobertura vacinal\")\n",
        "ax.set_title('Cobertura Vacinal por ano ', fontsize=20, fontstyle='oblique',fontweight=800)\n",
        "ax.set_ylabel('Cobertura (%)', fontsize=15, fontweight=600)\n",
        "y_value=['{:,.0f}'.format(x) + '%' for x in ax.get_yticks()]\n",
        "ax.set_yticklabels(y_value)\n",
        "ax.set_xlabel('Ano', fontsize=15, fontweight=600)\n",
        "plt.grid(True, linestyle = \"--\", color='gray')\n",
        "plt.axhline(90,0,1, color='r', **{'ls': '-.', 'lw':5})\n",
        "plt.show()"
      ],
      "execution_count": null,
      "outputs": []
    },
    {
      "cell_type": "markdown",
      "metadata": {
        "id": "zJpGLghzQ9Gx"
      },
      "source": [
        "# Analisar taxa de imunização por tipo de Vacina"
      ]
    },
    {
      "cell_type": "code",
      "metadata": {
        "id": "up-Ue9xCOjPF"
      },
      "source": [
        "vacina[\"uf\"] = vacina[\"Unidade da Federação\"].str.slice(start=3)\n",
        "vacina[\"Unidade da Federação\"] = vacina[\"uf\"]\n",
        "vacina = vacina.drop(\"Total\", axis=1)\n",
        "vacina = vacina.drop(\"uf\",axis=1)\n",
        "vacina.head()\n",
        "vacina = vacina.rename(columns={'Unidade da Federação':'uf'})\n",
        "vacina = vacina.set_index(\"uf\")\n",
        "vacina.head()\n",
        "vacina = vacina.reset_index().melt(id_vars=[\"uf\"], value_vars=vacina.columns)\n",
        "vacina.head()\n",
        "vacina = vacina.rename(columns={'value':'cobertura vacinal'})\n",
        "vacina = vacina.rename(columns={'variable':'Tipo'})\n",
        "vacina.head()\n"
      ],
      "execution_count": null,
      "outputs": []
    },
    {
      "cell_type": "code",
      "metadata": {
        "id": "gVzQDnweR76r"
      },
      "source": [
        "plt.figure(figsize=(18,10))\n",
        "plt.xticks(rotation=30,fontsize=15, fontstyle='italic',fontweight=500)\n",
        "plt.yticks(fontsize=15, fontstyle='italic',fontweight=500)\n",
        "ax = sns.barplot(data=vacina, x=\"Tipo\",y=\"cobertura vacinal\", palette=\"mako\")\n",
        "ax.set_title('Cobertura Vacinal por Imuno', fontsize=20, fontstyle='oblique',fontweight=800)\n",
        "ax.set_ylabel('Cobertura (%)', fontsize=15, fontweight=600)\n",
        "y_value=['{:,.0f}'.format(x) + '%' for x in ax.get_yticks()]\n",
        "ax.set_yticklabels(y_value)\n",
        "ax.set_xlabel('Imuno', fontsize=20, fontweight=600)\n",
        "plt.grid(True, linestyle = \"--\", color='gray')\n",
        "\n",
        "for tick in ax.get_xticklabels():\n",
        "    tick.set_rotation(90)\n",
        "\n",
        "plt.show()"
      ],
      "execution_count": null,
      "outputs": []
    },
    {
      "cell_type": "markdown",
      "source": [
        "***Vacina com menor cobertura de imunização:***\n",
        "---\n",
        "\n",
        "                    Poliomielite (Paralisia infantil)\n",
        "\n",
        "![image.png](data:image/png;base64,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)\n",
        "\n",
        "---\n",
        "\n",
        "                         \n"
      ],
      "metadata": {
        "id": "eyJjIy6fZ3YL"
      }
    },
    {
      "cell_type": "markdown",
      "metadata": {
        "id": "uQrZjGrRUpqN"
      },
      "source": [
        "**Identificar estados com menor taxa por ano**"
      ]
    },
    {
      "cell_type": "code",
      "metadata": {
        "id": "yQRCpWKjWbu_"
      },
      "source": [
        "cinco_menores_vacinao = unidade_federacao_ano.sort_values(['Total'], ascending=True).head()\n",
        "cinco_menores_vacinao"
      ],
      "execution_count": null,
      "outputs": []
    },
    {
      "cell_type": "code",
      "metadata": {
        "id": "HlINcJZJVehc"
      },
      "source": [
        "cinco_menores_vacinao[\"uf\"] = cinco_menores_vacinao[\"Unidade da Federação\"].str.slice(start=3)\n",
        "cinco_menores_vacinao[\"Unidade da Federação\"] = cinco_menores_vacinao[\"uf\"]\n",
        "cinco_menores_vacinao = cinco_menores_vacinao.drop(\"Total\", axis=1)\n",
        "cinco_menores_vacinao = cinco_menores_vacinao.drop(\"uf\",axis=1)\n",
        "cinco_menores_vacinao = cinco_menores_vacinao.rename(columns={'Unidade da Federação':'uf'})\n",
        "cinco_menores_vacinao = cinco_menores_vacinao.set_index(\"uf\")\n",
        "cinco_menores_vacinao = cinco_menores_vacinao.reset_index().melt(id_vars=[\"uf\"], value_vars=cinco_menores_vacinao.columns)\n",
        "cinco_menores_vacinao = cinco_menores_vacinao.rename(columns={'value':'cobertura'})\n",
        "cinco_menores_vacinao = cinco_menores_vacinao.rename(columns={'variable':'Ano'})"
      ],
      "execution_count": null,
      "outputs": []
    },
    {
      "cell_type": "code",
      "metadata": {
        "id": "XDDhU1bOV8_W"
      },
      "source": [
        "plt.figure(figsize=(18,10))\n",
        "plt.xticks(rotation=30,fontsize=15, fontstyle='italic',fontweight=500)\n",
        "plt.yticks(fontsize=15, fontstyle='italic',fontweight=500)\n",
        "ax = sns.lineplot(data=cinco_menores_vacinao, x=\"Ano\",y=\"cobertura\",hue=\"uf\",palette='mako')\n",
        "ax.set_title('Evolutivo da Cobertura Vacinal por Unidade Federativa', fontsize=20, fontstyle='oblique',fontweight=800)\n",
        "ax.set_ylabel('Cobertura Vacinal', fontsize=15, fontweight=600)\n",
        "ax.set_xlabel('Anos', fontsize=15, fontweight=600)\n",
        "plt.legend(bbox_to_anchor=(1.2, 0.6), loc=\"center right\", fontsize=15, ncol=1)\n",
        "ax.text(00, 00, 'Grafico com as 5 unidades federativas que possuem menor taxa de cobertura vacinal', fontsize=15,fontstyle='oblique')\n",
        "plt.grid(True, linestyle = \"--\", color='gray')\n",
        "plt.show()"
      ],
      "execution_count": null,
      "outputs": []
    },
    {
      "cell_type": "markdown",
      "metadata": {
        "id": "RAzBiF59bnDQ"
      },
      "source": [
        "**Descobrir qual a taxa das vacinas com menores aplicação nos 5 menores estados de cobertura**"
      ]
    },
    {
      "cell_type": "code",
      "metadata": {
        "id": "1Eja8QihulWW"
      },
      "source": [
        "unidade_federacao_vacina = unidade_federacao_vacina.sort_values(['Total'], ascending=True).head(3)"
      ],
      "execution_count": null,
      "outputs": []
    },
    {
      "cell_type": "markdown",
      "metadata": {
        "id": "dJLihaxytuk0"
      },
      "source": [
        "**Separar os 3 menores entre (Pará, Acre, Rio Grande do Norte, Rio de Janeiro e Amapá)**"
      ]
    },
    {
      "cell_type": "code",
      "metadata": {
        "id": "3DzOvLM9wYpD"
      },
      "source": [
        "unidade_federacao_vacina[\"uf\"] = unidade_federacao_vacina[\"Unidade da Federação\"].str.slice(start=3)\n",
        "unidade_federacao_vacina[\"Unidade da Federação\"] = unidade_federacao_vacina[\"uf\"]\n",
        "unidade_federacao_vacina = unidade_federacao_vacina.drop(\"Total\", axis=1)\n",
        "unidade_federacao_vacina = unidade_federacao_vacina.drop(\"uf\",axis=1)\n",
        "unidade_federacao_vacina = unidade_federacao_vacina.rename(columns={'Unidade da Federação':'uf'})\n",
        "unidade_federacao_vacina = unidade_federacao_vacina.set_index(\"uf\")\n",
        "unidade_federacao_vacina = unidade_federacao_vacina.reset_index().melt(id_vars=[\"uf\"], value_vars=unidade_federacao_vacina.columns)\n",
        "unidade_federacao_vacina = unidade_federacao_vacina.rename(columns={'value':'cobertura'})\n",
        "unidade_federacao_vacina = unidade_federacao_vacina.rename(columns={'variable':'imuna'})"
      ],
      "execution_count": null,
      "outputs": []
    },
    {
      "cell_type": "code",
      "metadata": {
        "id": "cviXYn89wp4y"
      },
      "source": [
        "plt.figure(figsize=(50,50))\n",
        "ax = sns.catplot(data=unidade_federacao_vacina,x=\"cobertura\",y=\"imuna\", kind='bar',col=\"uf\", palette=sns.color_palette(\"icefire_r\",11))\n",
        "plt.show()"
      ],
      "execution_count": null,
      "outputs": []
    },
    {
      "cell_type": "markdown",
      "source": [
        "**Fonte informações:** \n",
        "\n",
        "https://www.uol.com.br/vivabem/noticias/redacao/2021/09/29/queda-em-taxas-de-vacinacao-deve-ressuscitar-doencas-erradicadas-do-pais.htm\n",
        "\n",
        "https://www.gov.br/saude/pt-br/acesso-a-informacao/acoes-e-programas/programa-nacional-de-imunizacoes-vacinacao"
      ],
      "metadata": {
        "id": "hWXvLcguihsM"
      }
    }
  ]
}